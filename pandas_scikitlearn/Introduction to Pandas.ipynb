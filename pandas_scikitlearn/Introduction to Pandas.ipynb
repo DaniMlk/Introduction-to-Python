{
 "cells": [
  {
   "cell_type": "code",
   "execution_count": 3,
   "metadata": {},
   "outputs": [],
   "source": [
    "import pandas as pd\n",
    "import numpy as np"
   ]
  },
  {
   "cell_type": "code",
   "execution_count": 4,
   "metadata": {},
   "outputs": [
    {
     "data": {
      "text/plain": [
       "array([[ 0.27136293,  1.08026655,  0.40101736],\n",
       "       [-0.18880841, -0.30730659, -0.80242815]])"
      ]
     },
     "execution_count": 4,
     "metadata": {},
     "output_type": "execute_result"
    }
   ],
   "source": [
    "np.random.randn(2,3)"
   ]
  },
  {
   "cell_type": "markdown",
   "metadata": {},
   "source": [
    "# 1.Create Series\n",
    "Using **Pandas**, it is possible to create series, an specific type of data in *pandas*, which is similar to python **dictionary** type. A **one-dimensional** labeled array capable of holding any data type. "
   ]
  },
  {
   "cell_type": "code",
   "execution_count": 5,
   "metadata": {},
   "outputs": [
    {
     "name": "stdout",
     "output_type": "stream",
     "text": [
      "a    3\n",
      "b   -5\n",
      "c    7\n",
      "d    4\n",
      "dtype: int64\n"
     ]
    }
   ],
   "source": [
    "s = pd.Series(data=[3,-5,7,4], index=['a','b','c','d'])\n",
    "print(s)"
   ]
  },
  {
   "cell_type": "markdown",
   "metadata": {},
   "source": [
    "## 1-1.Data Selection"
   ]
  },
  {
   "cell_type": "code",
   "execution_count": 6,
   "metadata": {},
   "outputs": [
    {
     "name": "stdout",
     "output_type": "stream",
     "text": [
      "-5\n"
     ]
    }
   ],
   "source": [
    "print(s['b'])"
   ]
  },
  {
   "cell_type": "markdown",
   "metadata": {},
   "source": [
    "# 2.Create DataFrame\n",
    "A **two-dimensional** labeled data sturcture with columns of potentially different types. It is like a *2-D* array."
   ]
  },
  {
   "cell_type": "code",
   "execution_count": 7,
   "metadata": {
    "collapsed": true
   },
   "outputs": [],
   "source": [
    "data = {'Country':['Belgium', 'India', 'Brazil'],\n",
    "       'Capital':['Brussels', 'New Delhi', 'Brasília'],\n",
    "       'Population':[11190846, 1303171035, 207847528]}"
   ]
  },
  {
   "cell_type": "code",
   "execution_count": 8,
   "metadata": {},
   "outputs": [
    {
     "data": {
      "text/plain": [
       "dict"
      ]
     },
     "execution_count": 8,
     "metadata": {},
     "output_type": "execute_result"
    }
   ],
   "source": [
    "type(data)"
   ]
  },
  {
   "cell_type": "code",
   "execution_count": 9,
   "metadata": {},
   "outputs": [
    {
     "name": "stdout",
     "output_type": "stream",
     "text": [
      "{'Country': ['Belgium', 'India', 'Brazil'], 'Capital': ['Brussels', 'New Delhi', 'Brasília'], 'Population': [11190846, 1303171035, 207847528]}\n"
     ]
    }
   ],
   "source": [
    "print(data)"
   ]
  },
  {
   "cell_type": "code",
   "execution_count": 10,
   "metadata": {
    "collapsed": true
   },
   "outputs": [],
   "source": [
    "df = pd.DataFrame(data=data, columns=[\"Country\", \"Capital\",\"Population\"])"
   ]
  },
  {
   "cell_type": "code",
   "execution_count": 11,
   "metadata": {},
   "outputs": [
    {
     "data": {
      "text/html": [
       "<div>\n",
       "<style>\n",
       "    .dataframe thead tr:only-child th {\n",
       "        text-align: right;\n",
       "    }\n",
       "\n",
       "    .dataframe thead th {\n",
       "        text-align: left;\n",
       "    }\n",
       "\n",
       "    .dataframe tbody tr th {\n",
       "        vertical-align: top;\n",
       "    }\n",
       "</style>\n",
       "<table border=\"1\" class=\"dataframe\">\n",
       "  <thead>\n",
       "    <tr style=\"text-align: right;\">\n",
       "      <th></th>\n",
       "      <th>Country</th>\n",
       "      <th>Capital</th>\n",
       "      <th>Population</th>\n",
       "    </tr>\n",
       "  </thead>\n",
       "  <tbody>\n",
       "    <tr>\n",
       "      <th>0</th>\n",
       "      <td>Belgium</td>\n",
       "      <td>Brussels</td>\n",
       "      <td>11190846</td>\n",
       "    </tr>\n",
       "    <tr>\n",
       "      <th>1</th>\n",
       "      <td>India</td>\n",
       "      <td>New Delhi</td>\n",
       "      <td>1303171035</td>\n",
       "    </tr>\n",
       "    <tr>\n",
       "      <th>2</th>\n",
       "      <td>Brazil</td>\n",
       "      <td>Brasília</td>\n",
       "      <td>207847528</td>\n",
       "    </tr>\n",
       "  </tbody>\n",
       "</table>\n",
       "</div>"
      ],
      "text/plain": [
       "   Country    Capital  Population\n",
       "0  Belgium   Brussels    11190846\n",
       "1    India  New Delhi  1303171035\n",
       "2   Brazil   Brasília   207847528"
      ]
     },
     "execution_count": 11,
     "metadata": {},
     "output_type": "execute_result"
    }
   ],
   "source": [
    "df"
   ]
  },
  {
   "cell_type": "code",
   "execution_count": 12,
   "metadata": {
    "collapsed": true
   },
   "outputs": [],
   "source": [
    "df1 = pd.DataFrame(data=np.random.randn(4,10), \n",
    "                  columns=[\"feat{}\".format(i) for i in range(10)], \n",
    "                  index=[\"sam{}\".format(j) for j in range(4)])"
   ]
  },
  {
   "cell_type": "code",
   "execution_count": 13,
   "metadata": {},
   "outputs": [
    {
     "data": {
      "text/html": [
       "<div>\n",
       "<style>\n",
       "    .dataframe thead tr:only-child th {\n",
       "        text-align: right;\n",
       "    }\n",
       "\n",
       "    .dataframe thead th {\n",
       "        text-align: left;\n",
       "    }\n",
       "\n",
       "    .dataframe tbody tr th {\n",
       "        vertical-align: top;\n",
       "    }\n",
       "</style>\n",
       "<table border=\"1\" class=\"dataframe\">\n",
       "  <thead>\n",
       "    <tr style=\"text-align: right;\">\n",
       "      <th></th>\n",
       "      <th>feat0</th>\n",
       "      <th>feat1</th>\n",
       "      <th>feat2</th>\n",
       "      <th>feat3</th>\n",
       "      <th>feat4</th>\n",
       "      <th>feat5</th>\n",
       "      <th>feat6</th>\n",
       "      <th>feat7</th>\n",
       "      <th>feat8</th>\n",
       "      <th>feat9</th>\n",
       "    </tr>\n",
       "  </thead>\n",
       "  <tbody>\n",
       "    <tr>\n",
       "      <th>sam0</th>\n",
       "      <td>0.144098</td>\n",
       "      <td>0.511253</td>\n",
       "      <td>0.662973</td>\n",
       "      <td>-0.221964</td>\n",
       "      <td>0.109188</td>\n",
       "      <td>-0.474374</td>\n",
       "      <td>0.415145</td>\n",
       "      <td>1.227298</td>\n",
       "      <td>-0.129611</td>\n",
       "      <td>1.240550</td>\n",
       "    </tr>\n",
       "    <tr>\n",
       "      <th>sam1</th>\n",
       "      <td>0.479327</td>\n",
       "      <td>-0.334585</td>\n",
       "      <td>-1.048048</td>\n",
       "      <td>0.779508</td>\n",
       "      <td>-1.960056</td>\n",
       "      <td>-1.711061</td>\n",
       "      <td>-1.566406</td>\n",
       "      <td>0.321689</td>\n",
       "      <td>1.354121</td>\n",
       "      <td>-0.784822</td>\n",
       "    </tr>\n",
       "    <tr>\n",
       "      <th>sam2</th>\n",
       "      <td>1.439213</td>\n",
       "      <td>0.215784</td>\n",
       "      <td>-0.380879</td>\n",
       "      <td>-0.847516</td>\n",
       "      <td>1.592018</td>\n",
       "      <td>0.057773</td>\n",
       "      <td>1.483329</td>\n",
       "      <td>1.696284</td>\n",
       "      <td>0.933079</td>\n",
       "      <td>-0.033022</td>\n",
       "    </tr>\n",
       "    <tr>\n",
       "      <th>sam3</th>\n",
       "      <td>0.621442</td>\n",
       "      <td>-0.248484</td>\n",
       "      <td>-0.765125</td>\n",
       "      <td>1.043017</td>\n",
       "      <td>-1.600819</td>\n",
       "      <td>0.698592</td>\n",
       "      <td>0.770725</td>\n",
       "      <td>0.328838</td>\n",
       "      <td>-1.167603</td>\n",
       "      <td>0.467831</td>\n",
       "    </tr>\n",
       "  </tbody>\n",
       "</table>\n",
       "</div>"
      ],
      "text/plain": [
       "         feat0     feat1     feat2     feat3     feat4     feat5     feat6  \\\n",
       "sam0  0.144098  0.511253  0.662973 -0.221964  0.109188 -0.474374  0.415145   \n",
       "sam1  0.479327 -0.334585 -1.048048  0.779508 -1.960056 -1.711061 -1.566406   \n",
       "sam2  1.439213  0.215784 -0.380879 -0.847516  1.592018  0.057773  1.483329   \n",
       "sam3  0.621442 -0.248484 -0.765125  1.043017 -1.600819  0.698592  0.770725   \n",
       "\n",
       "         feat7     feat8     feat9  \n",
       "sam0  1.227298 -0.129611  1.240550  \n",
       "sam1  0.321689  1.354121 -0.784822  \n",
       "sam2  1.696284  0.933079 -0.033022  \n",
       "sam3  0.328838 -1.167603  0.467831  "
      ]
     },
     "execution_count": 13,
     "metadata": {},
     "output_type": "execute_result"
    }
   ],
   "source": [
    "df1"
   ]
  },
  {
   "cell_type": "markdown",
   "metadata": {},
   "source": [
    "## 2-1. Data Selection"
   ]
  },
  {
   "cell_type": "code",
   "execution_count": 14,
   "metadata": {},
   "outputs": [
    {
     "data": {
      "text/html": [
       "<div>\n",
       "<style>\n",
       "    .dataframe thead tr:only-child th {\n",
       "        text-align: right;\n",
       "    }\n",
       "\n",
       "    .dataframe thead th {\n",
       "        text-align: left;\n",
       "    }\n",
       "\n",
       "    .dataframe tbody tr th {\n",
       "        vertical-align: top;\n",
       "    }\n",
       "</style>\n",
       "<table border=\"1\" class=\"dataframe\">\n",
       "  <thead>\n",
       "    <tr style=\"text-align: right;\">\n",
       "      <th></th>\n",
       "      <th>feat0</th>\n",
       "      <th>feat1</th>\n",
       "      <th>feat2</th>\n",
       "      <th>feat3</th>\n",
       "      <th>feat4</th>\n",
       "      <th>feat5</th>\n",
       "      <th>feat6</th>\n",
       "      <th>feat7</th>\n",
       "      <th>feat8</th>\n",
       "      <th>feat9</th>\n",
       "    </tr>\n",
       "  </thead>\n",
       "  <tbody>\n",
       "    <tr>\n",
       "      <th>sam1</th>\n",
       "      <td>0.479327</td>\n",
       "      <td>-0.334585</td>\n",
       "      <td>-1.048048</td>\n",
       "      <td>0.779508</td>\n",
       "      <td>-1.960056</td>\n",
       "      <td>-1.711061</td>\n",
       "      <td>-1.566406</td>\n",
       "      <td>0.321689</td>\n",
       "      <td>1.354121</td>\n",
       "      <td>-0.784822</td>\n",
       "    </tr>\n",
       "  </tbody>\n",
       "</table>\n",
       "</div>"
      ],
      "text/plain": [
       "         feat0     feat1     feat2     feat3     feat4     feat5     feat6  \\\n",
       "sam1  0.479327 -0.334585 -1.048048  0.779508 -1.960056 -1.711061 -1.566406   \n",
       "\n",
       "         feat7     feat8     feat9  \n",
       "sam1  0.321689  1.354121 -0.784822  "
      ]
     },
     "execution_count": 14,
     "metadata": {},
     "output_type": "execute_result"
    }
   ],
   "source": [
    "df1[1:2:]   # Select rows of data frame"
   ]
  },
  {
   "cell_type": "markdown",
   "metadata": {},
   "source": [
    "## 2-2. Selecting, Boolean Indexing & Setting"
   ]
  },
  {
   "cell_type": "markdown",
   "metadata": {},
   "source": [
    "### 2-2-1. By Position"
   ]
  },
  {
   "cell_type": "code",
   "execution_count": 15,
   "metadata": {},
   "outputs": [
    {
     "data": {
      "text/html": [
       "<div>\n",
       "<style>\n",
       "    .dataframe thead tr:only-child th {\n",
       "        text-align: right;\n",
       "    }\n",
       "\n",
       "    .dataframe thead th {\n",
       "        text-align: left;\n",
       "    }\n",
       "\n",
       "    .dataframe tbody tr th {\n",
       "        vertical-align: top;\n",
       "    }\n",
       "</style>\n",
       "<table border=\"1\" class=\"dataframe\">\n",
       "  <thead>\n",
       "    <tr style=\"text-align: right;\">\n",
       "      <th></th>\n",
       "      <th>Country</th>\n",
       "      <th>Capital</th>\n",
       "      <th>Population</th>\n",
       "    </tr>\n",
       "  </thead>\n",
       "  <tbody>\n",
       "    <tr>\n",
       "      <th>0</th>\n",
       "      <td>Belgium</td>\n",
       "      <td>Brussels</td>\n",
       "      <td>11190846</td>\n",
       "    </tr>\n",
       "    <tr>\n",
       "      <th>1</th>\n",
       "      <td>India</td>\n",
       "      <td>New Delhi</td>\n",
       "      <td>1303171035</td>\n",
       "    </tr>\n",
       "    <tr>\n",
       "      <th>2</th>\n",
       "      <td>Brazil</td>\n",
       "      <td>Brasília</td>\n",
       "      <td>207847528</td>\n",
       "    </tr>\n",
       "  </tbody>\n",
       "</table>\n",
       "</div>"
      ],
      "text/plain": [
       "   Country    Capital  Population\n",
       "0  Belgium   Brussels    11190846\n",
       "1    India  New Delhi  1303171035\n",
       "2   Brazil   Brasília   207847528"
      ]
     },
     "execution_count": 15,
     "metadata": {},
     "output_type": "execute_result"
    }
   ],
   "source": [
    "df"
   ]
  },
  {
   "cell_type": "code",
   "execution_count": 16,
   "metadata": {},
   "outputs": [
    {
     "data": {
      "text/plain": [
       "'Belgium'"
      ]
     },
     "execution_count": 16,
     "metadata": {},
     "output_type": "execute_result"
    }
   ],
   "source": [
    "df.iloc[0,0]   # Select specific location in DaraFrame"
   ]
  },
  {
   "cell_type": "code",
   "execution_count": 17,
   "metadata": {},
   "outputs": [
    {
     "data": {
      "text/plain": [
       "'Belgium'"
      ]
     },
     "execution_count": 17,
     "metadata": {},
     "output_type": "execute_result"
    }
   ],
   "source": [
    "df.iat[0,0]    # Select specific location in DaraFrame, Faster than iloc"
   ]
  },
  {
   "cell_type": "markdown",
   "metadata": {},
   "source": [
    "### 2-2-2. By Label"
   ]
  },
  {
   "cell_type": "code",
   "execution_count": 18,
   "metadata": {},
   "outputs": [
    {
     "data": {
      "text/html": [
       "<div>\n",
       "<style>\n",
       "    .dataframe thead tr:only-child th {\n",
       "        text-align: right;\n",
       "    }\n",
       "\n",
       "    .dataframe thead th {\n",
       "        text-align: left;\n",
       "    }\n",
       "\n",
       "    .dataframe tbody tr th {\n",
       "        vertical-align: top;\n",
       "    }\n",
       "</style>\n",
       "<table border=\"1\" class=\"dataframe\">\n",
       "  <thead>\n",
       "    <tr style=\"text-align: right;\">\n",
       "      <th></th>\n",
       "      <th>Country</th>\n",
       "      <th>Capital</th>\n",
       "      <th>Population</th>\n",
       "    </tr>\n",
       "  </thead>\n",
       "  <tbody>\n",
       "    <tr>\n",
       "      <th>0</th>\n",
       "      <td>Belgium</td>\n",
       "      <td>Brussels</td>\n",
       "      <td>11190846</td>\n",
       "    </tr>\n",
       "    <tr>\n",
       "      <th>1</th>\n",
       "      <td>India</td>\n",
       "      <td>New Delhi</td>\n",
       "      <td>1303171035</td>\n",
       "    </tr>\n",
       "    <tr>\n",
       "      <th>2</th>\n",
       "      <td>Brazil</td>\n",
       "      <td>Brasília</td>\n",
       "      <td>207847528</td>\n",
       "    </tr>\n",
       "  </tbody>\n",
       "</table>\n",
       "</div>"
      ],
      "text/plain": [
       "   Country    Capital  Population\n",
       "0  Belgium   Brussels    11190846\n",
       "1    India  New Delhi  1303171035\n",
       "2   Brazil   Brasília   207847528"
      ]
     },
     "execution_count": 18,
     "metadata": {},
     "output_type": "execute_result"
    }
   ],
   "source": [
    "df"
   ]
  },
  {
   "cell_type": "code",
   "execution_count": 19,
   "metadata": {},
   "outputs": [
    {
     "data": {
      "text/plain": [
       "'Belgium'"
      ]
     },
     "execution_count": 19,
     "metadata": {},
     "output_type": "execute_result"
    }
   ],
   "source": [
    "df.loc[0,'Country']"
   ]
  },
  {
   "cell_type": "code",
   "execution_count": 20,
   "metadata": {},
   "outputs": [
    {
     "data": {
      "text/plain": [
       "'Belgium'"
      ]
     },
     "execution_count": 20,
     "metadata": {},
     "output_type": "execute_result"
    }
   ],
   "source": [
    "df.at[0,'Country']"
   ]
  },
  {
   "cell_type": "code",
   "execution_count": 21,
   "metadata": {},
   "outputs": [
    {
     "data": {
      "text/html": [
       "<div>\n",
       "<style>\n",
       "    .dataframe thead tr:only-child th {\n",
       "        text-align: right;\n",
       "    }\n",
       "\n",
       "    .dataframe thead th {\n",
       "        text-align: left;\n",
       "    }\n",
       "\n",
       "    .dataframe tbody tr th {\n",
       "        vertical-align: top;\n",
       "    }\n",
       "</style>\n",
       "<table border=\"1\" class=\"dataframe\">\n",
       "  <thead>\n",
       "    <tr style=\"text-align: right;\">\n",
       "      <th></th>\n",
       "      <th>feat0</th>\n",
       "      <th>feat1</th>\n",
       "      <th>feat2</th>\n",
       "      <th>feat3</th>\n",
       "      <th>feat4</th>\n",
       "      <th>feat5</th>\n",
       "      <th>feat6</th>\n",
       "      <th>feat7</th>\n",
       "      <th>feat8</th>\n",
       "      <th>feat9</th>\n",
       "    </tr>\n",
       "  </thead>\n",
       "  <tbody>\n",
       "    <tr>\n",
       "      <th>sam0</th>\n",
       "      <td>0.144098</td>\n",
       "      <td>0.511253</td>\n",
       "      <td>0.662973</td>\n",
       "      <td>-0.221964</td>\n",
       "      <td>0.109188</td>\n",
       "      <td>-0.474374</td>\n",
       "      <td>0.415145</td>\n",
       "      <td>1.227298</td>\n",
       "      <td>-0.129611</td>\n",
       "      <td>1.240550</td>\n",
       "    </tr>\n",
       "    <tr>\n",
       "      <th>sam1</th>\n",
       "      <td>0.479327</td>\n",
       "      <td>-0.334585</td>\n",
       "      <td>-1.048048</td>\n",
       "      <td>0.779508</td>\n",
       "      <td>-1.960056</td>\n",
       "      <td>-1.711061</td>\n",
       "      <td>-1.566406</td>\n",
       "      <td>0.321689</td>\n",
       "      <td>1.354121</td>\n",
       "      <td>-0.784822</td>\n",
       "    </tr>\n",
       "    <tr>\n",
       "      <th>sam2</th>\n",
       "      <td>1.439213</td>\n",
       "      <td>0.215784</td>\n",
       "      <td>-0.380879</td>\n",
       "      <td>-0.847516</td>\n",
       "      <td>1.592018</td>\n",
       "      <td>0.057773</td>\n",
       "      <td>1.483329</td>\n",
       "      <td>1.696284</td>\n",
       "      <td>0.933079</td>\n",
       "      <td>-0.033022</td>\n",
       "    </tr>\n",
       "    <tr>\n",
       "      <th>sam3</th>\n",
       "      <td>0.621442</td>\n",
       "      <td>-0.248484</td>\n",
       "      <td>-0.765125</td>\n",
       "      <td>1.043017</td>\n",
       "      <td>-1.600819</td>\n",
       "      <td>0.698592</td>\n",
       "      <td>0.770725</td>\n",
       "      <td>0.328838</td>\n",
       "      <td>-1.167603</td>\n",
       "      <td>0.467831</td>\n",
       "    </tr>\n",
       "  </tbody>\n",
       "</table>\n",
       "</div>"
      ],
      "text/plain": [
       "         feat0     feat1     feat2     feat3     feat4     feat5     feat6  \\\n",
       "sam0  0.144098  0.511253  0.662973 -0.221964  0.109188 -0.474374  0.415145   \n",
       "sam1  0.479327 -0.334585 -1.048048  0.779508 -1.960056 -1.711061 -1.566406   \n",
       "sam2  1.439213  0.215784 -0.380879 -0.847516  1.592018  0.057773  1.483329   \n",
       "sam3  0.621442 -0.248484 -0.765125  1.043017 -1.600819  0.698592  0.770725   \n",
       "\n",
       "         feat7     feat8     feat9  \n",
       "sam0  1.227298 -0.129611  1.240550  \n",
       "sam1  0.321689  1.354121 -0.784822  \n",
       "sam2  1.696284  0.933079 -0.033022  \n",
       "sam3  0.328838 -1.167603  0.467831  "
      ]
     },
     "execution_count": 21,
     "metadata": {},
     "output_type": "execute_result"
    }
   ],
   "source": [
    "df1"
   ]
  },
  {
   "cell_type": "code",
   "execution_count": 22,
   "metadata": {},
   "outputs": [
    {
     "data": {
      "text/plain": [
       "0.14409766224986703"
      ]
     },
     "execution_count": 22,
     "metadata": {},
     "output_type": "execute_result"
    }
   ],
   "source": [
    "df1.loc['sam0','feat0']"
   ]
  },
  {
   "cell_type": "markdown",
   "metadata": {},
   "source": [
    "### 2-2-3. Select Single Row"
   ]
  },
  {
   "cell_type": "code",
   "execution_count": 23,
   "metadata": {},
   "outputs": [
    {
     "data": {
      "text/plain": [
       "Country          Brazil\n",
       "Capital        Brasília\n",
       "Population    207847528\n",
       "Name: 2, dtype: object"
      ]
     },
     "execution_count": 23,
     "metadata": {},
     "output_type": "execute_result"
    }
   ],
   "source": [
    "df.iloc[2]"
   ]
  },
  {
   "cell_type": "code",
   "execution_count": 24,
   "metadata": {},
   "outputs": [
    {
     "data": {
      "text/plain": [
       "feat0    1.439213\n",
       "feat1    0.215784\n",
       "feat2   -0.380879\n",
       "feat3   -0.847516\n",
       "feat4    1.592018\n",
       "feat5    0.057773\n",
       "feat6    1.483329\n",
       "feat7    1.696284\n",
       "feat8    0.933079\n",
       "feat9   -0.033022\n",
       "Name: sam2, dtype: float64"
      ]
     },
     "execution_count": 24,
     "metadata": {},
     "output_type": "execute_result"
    }
   ],
   "source": [
    "df1.iloc[2]"
   ]
  },
  {
   "cell_type": "markdown",
   "metadata": {},
   "source": [
    "### 2-2-4. Select Single Column"
   ]
  },
  {
   "cell_type": "code",
   "execution_count": 25,
   "metadata": {},
   "outputs": [
    {
     "name": "stderr",
     "output_type": "stream",
     "text": [
      "/home/sajjad/anaconda3/lib/python3.6/site-packages/ipykernel_launcher.py:1: DeprecationWarning: \n",
      ".ix is deprecated. Please use\n",
      ".loc for label based indexing or\n",
      ".iloc for positional indexing\n",
      "\n",
      "See the documentation here:\n",
      "http://pandas.pydata.org/pandas-docs/stable/indexing.html#ix-indexer-is-deprecated\n",
      "  \"\"\"Entry point for launching an IPython kernel.\n"
     ]
    },
    {
     "data": {
      "text/plain": [
       "0     Brussels\n",
       "1    New Delhi\n",
       "2     Brasília\n",
       "Name: Capital, dtype: object"
      ]
     },
     "execution_count": 25,
     "metadata": {},
     "output_type": "execute_result"
    }
   ],
   "source": [
    "df.ix[:,'Capital']    # Deprecated Version, instead, use loc"
   ]
  },
  {
   "cell_type": "code",
   "execution_count": 26,
   "metadata": {},
   "outputs": [
    {
     "data": {
      "text/plain": [
       "0     Brussels\n",
       "1    New Delhi\n",
       "2     Brasília\n",
       "Name: Capital, dtype: object"
      ]
     },
     "execution_count": 26,
     "metadata": {},
     "output_type": "execute_result"
    }
   ],
   "source": [
    "df.loc[:,'Capital']"
   ]
  },
  {
   "cell_type": "markdown",
   "metadata": {},
   "source": [
    "### 2-2-5. Select Single Row and Column"
   ]
  },
  {
   "cell_type": "code",
   "execution_count": 27,
   "metadata": {},
   "outputs": [
    {
     "data": {
      "text/plain": [
       "'Belgium'"
      ]
     },
     "execution_count": 27,
     "metadata": {},
     "output_type": "execute_result"
    }
   ],
   "source": [
    "df.ix[0,'Country']"
   ]
  },
  {
   "cell_type": "markdown",
   "metadata": {},
   "source": [
    "### 2-2-6. Select Multiple Rows and Columns"
   ]
  },
  {
   "cell_type": "markdown",
   "metadata": {},
   "source": [
    "<img src=\"files/indexing.png\">"
   ]
  },
  {
   "cell_type": "code",
   "execution_count": 28,
   "metadata": {},
   "outputs": [
    {
     "data": {
      "text/plain": [
       "0    Belgium\n",
       "1      India\n",
       "2     Brazil\n",
       "Name: Country, dtype: object"
      ]
     },
     "execution_count": 28,
     "metadata": {},
     "output_type": "execute_result"
    }
   ],
   "source": [
    "df['Country']"
   ]
  },
  {
   "cell_type": "code",
   "execution_count": 29,
   "metadata": {},
   "outputs": [
    {
     "data": {
      "text/plain": [
       "0      11190846\n",
       "1    1303171035\n",
       "2     207847528\n",
       "Name: Population, dtype: int64"
      ]
     },
     "execution_count": 29,
     "metadata": {},
     "output_type": "execute_result"
    }
   ],
   "source": [
    "df['Population']"
   ]
  },
  {
   "cell_type": "code",
   "execution_count": 30,
   "metadata": {},
   "outputs": [
    {
     "data": {
      "text/html": [
       "<div>\n",
       "<style>\n",
       "    .dataframe thead tr:only-child th {\n",
       "        text-align: right;\n",
       "    }\n",
       "\n",
       "    .dataframe thead th {\n",
       "        text-align: left;\n",
       "    }\n",
       "\n",
       "    .dataframe tbody tr th {\n",
       "        vertical-align: top;\n",
       "    }\n",
       "</style>\n",
       "<table border=\"1\" class=\"dataframe\">\n",
       "  <thead>\n",
       "    <tr style=\"text-align: right;\">\n",
       "      <th></th>\n",
       "      <th>Country</th>\n",
       "      <th>Population</th>\n",
       "    </tr>\n",
       "  </thead>\n",
       "  <tbody>\n",
       "    <tr>\n",
       "      <th>0</th>\n",
       "      <td>Belgium</td>\n",
       "      <td>11190846</td>\n",
       "    </tr>\n",
       "    <tr>\n",
       "      <th>1</th>\n",
       "      <td>India</td>\n",
       "      <td>1303171035</td>\n",
       "    </tr>\n",
       "    <tr>\n",
       "      <th>2</th>\n",
       "      <td>Brazil</td>\n",
       "      <td>207847528</td>\n",
       "    </tr>\n",
       "  </tbody>\n",
       "</table>\n",
       "</div>"
      ],
      "text/plain": [
       "   Country  Population\n",
       "0  Belgium    11190846\n",
       "1    India  1303171035\n",
       "2   Brazil   207847528"
      ]
     },
     "execution_count": 30,
     "metadata": {},
     "output_type": "execute_result"
    }
   ],
   "source": [
    "df[['Country','Population']]"
   ]
  },
  {
   "cell_type": "code",
   "execution_count": 31,
   "metadata": {},
   "outputs": [
    {
     "data": {
      "text/html": [
       "<div>\n",
       "<style>\n",
       "    .dataframe thead tr:only-child th {\n",
       "        text-align: right;\n",
       "    }\n",
       "\n",
       "    .dataframe thead th {\n",
       "        text-align: left;\n",
       "    }\n",
       "\n",
       "    .dataframe tbody tr th {\n",
       "        vertical-align: top;\n",
       "    }\n",
       "</style>\n",
       "<table border=\"1\" class=\"dataframe\">\n",
       "  <thead>\n",
       "    <tr style=\"text-align: right;\">\n",
       "      <th></th>\n",
       "      <th>Country</th>\n",
       "    </tr>\n",
       "  </thead>\n",
       "  <tbody>\n",
       "    <tr>\n",
       "      <th>0</th>\n",
       "      <td>Belgium</td>\n",
       "    </tr>\n",
       "    <tr>\n",
       "      <th>1</th>\n",
       "      <td>India</td>\n",
       "    </tr>\n",
       "    <tr>\n",
       "      <th>2</th>\n",
       "      <td>Brazil</td>\n",
       "    </tr>\n",
       "  </tbody>\n",
       "</table>\n",
       "</div>"
      ],
      "text/plain": [
       "   Country\n",
       "0  Belgium\n",
       "1    India\n",
       "2   Brazil"
      ]
     },
     "execution_count": 31,
     "metadata": {},
     "output_type": "execute_result"
    }
   ],
   "source": [
    "df.loc[:,['Country']]"
   ]
  },
  {
   "cell_type": "code",
   "execution_count": 32,
   "metadata": {},
   "outputs": [
    {
     "data": {
      "text/html": [
       "<div>\n",
       "<style>\n",
       "    .dataframe thead tr:only-child th {\n",
       "        text-align: right;\n",
       "    }\n",
       "\n",
       "    .dataframe thead th {\n",
       "        text-align: left;\n",
       "    }\n",
       "\n",
       "    .dataframe tbody tr th {\n",
       "        vertical-align: top;\n",
       "    }\n",
       "</style>\n",
       "<table border=\"1\" class=\"dataframe\">\n",
       "  <thead>\n",
       "    <tr style=\"text-align: right;\">\n",
       "      <th></th>\n",
       "      <th>Country</th>\n",
       "    </tr>\n",
       "  </thead>\n",
       "  <tbody>\n",
       "    <tr>\n",
       "      <th>1</th>\n",
       "      <td>India</td>\n",
       "    </tr>\n",
       "    <tr>\n",
       "      <th>2</th>\n",
       "      <td>Brazil</td>\n",
       "    </tr>\n",
       "  </tbody>\n",
       "</table>\n",
       "</div>"
      ],
      "text/plain": [
       "  Country\n",
       "1   India\n",
       "2  Brazil"
      ]
     },
     "execution_count": 32,
     "metadata": {},
     "output_type": "execute_result"
    }
   ],
   "source": [
    "df.loc[1:,['Country']]"
   ]
  },
  {
   "cell_type": "code",
   "execution_count": 33,
   "metadata": {},
   "outputs": [
    {
     "data": {
      "text/html": [
       "<div>\n",
       "<style>\n",
       "    .dataframe thead tr:only-child th {\n",
       "        text-align: right;\n",
       "    }\n",
       "\n",
       "    .dataframe thead th {\n",
       "        text-align: left;\n",
       "    }\n",
       "\n",
       "    .dataframe tbody tr th {\n",
       "        vertical-align: top;\n",
       "    }\n",
       "</style>\n",
       "<table border=\"1\" class=\"dataframe\">\n",
       "  <thead>\n",
       "    <tr style=\"text-align: right;\">\n",
       "      <th></th>\n",
       "      <th>Country</th>\n",
       "      <th>Population</th>\n",
       "    </tr>\n",
       "  </thead>\n",
       "  <tbody>\n",
       "    <tr>\n",
       "      <th>1</th>\n",
       "      <td>India</td>\n",
       "      <td>1303171035</td>\n",
       "    </tr>\n",
       "    <tr>\n",
       "      <th>2</th>\n",
       "      <td>Brazil</td>\n",
       "      <td>207847528</td>\n",
       "    </tr>\n",
       "  </tbody>\n",
       "</table>\n",
       "</div>"
      ],
      "text/plain": [
       "  Country  Population\n",
       "1   India  1303171035\n",
       "2  Brazil   207847528"
      ]
     },
     "execution_count": 33,
     "metadata": {},
     "output_type": "execute_result"
    }
   ],
   "source": [
    "df.loc[1:,['Country','Population']]"
   ]
  },
  {
   "cell_type": "code",
   "execution_count": 34,
   "metadata": {},
   "outputs": [
    {
     "data": {
      "text/html": [
       "<div>\n",
       "<style>\n",
       "    .dataframe thead tr:only-child th {\n",
       "        text-align: right;\n",
       "    }\n",
       "\n",
       "    .dataframe thead th {\n",
       "        text-align: left;\n",
       "    }\n",
       "\n",
       "    .dataframe tbody tr th {\n",
       "        vertical-align: top;\n",
       "    }\n",
       "</style>\n",
       "<table border=\"1\" class=\"dataframe\">\n",
       "  <thead>\n",
       "    <tr style=\"text-align: right;\">\n",
       "      <th></th>\n",
       "      <th>Country</th>\n",
       "      <th>Capital</th>\n",
       "      <th>Population</th>\n",
       "    </tr>\n",
       "  </thead>\n",
       "  <tbody>\n",
       "    <tr>\n",
       "      <th>0</th>\n",
       "      <td>Belgium</td>\n",
       "      <td>Brussels</td>\n",
       "      <td>11190846</td>\n",
       "    </tr>\n",
       "    <tr>\n",
       "      <th>1</th>\n",
       "      <td>India</td>\n",
       "      <td>New Delhi</td>\n",
       "      <td>1303171035</td>\n",
       "    </tr>\n",
       "  </tbody>\n",
       "</table>\n",
       "</div>"
      ],
      "text/plain": [
       "   Country    Capital  Population\n",
       "0  Belgium   Brussels    11190846\n",
       "1    India  New Delhi  1303171035"
      ]
     },
     "execution_count": 34,
     "metadata": {},
     "output_type": "execute_result"
    }
   ],
   "source": [
    "df[:2]"
   ]
  },
  {
   "cell_type": "code",
   "execution_count": 35,
   "metadata": {},
   "outputs": [
    {
     "data": {
      "text/html": [
       "<div>\n",
       "<style>\n",
       "    .dataframe thead tr:only-child th {\n",
       "        text-align: right;\n",
       "    }\n",
       "\n",
       "    .dataframe thead th {\n",
       "        text-align: left;\n",
       "    }\n",
       "\n",
       "    .dataframe tbody tr th {\n",
       "        vertical-align: top;\n",
       "    }\n",
       "</style>\n",
       "<table border=\"1\" class=\"dataframe\">\n",
       "  <thead>\n",
       "    <tr style=\"text-align: right;\">\n",
       "      <th></th>\n",
       "      <th>Country</th>\n",
       "      <th>Capital</th>\n",
       "      <th>Population</th>\n",
       "    </tr>\n",
       "  </thead>\n",
       "  <tbody>\n",
       "    <tr>\n",
       "      <th>2</th>\n",
       "      <td>Brazil</td>\n",
       "      <td>Brasília</td>\n",
       "      <td>207847528</td>\n",
       "    </tr>\n",
       "    <tr>\n",
       "      <th>1</th>\n",
       "      <td>India</td>\n",
       "      <td>New Delhi</td>\n",
       "      <td>1303171035</td>\n",
       "    </tr>\n",
       "    <tr>\n",
       "      <th>0</th>\n",
       "      <td>Belgium</td>\n",
       "      <td>Brussels</td>\n",
       "      <td>11190846</td>\n",
       "    </tr>\n",
       "  </tbody>\n",
       "</table>\n",
       "</div>"
      ],
      "text/plain": [
       "   Country    Capital  Population\n",
       "2   Brazil   Brasília   207847528\n",
       "1    India  New Delhi  1303171035\n",
       "0  Belgium   Brussels    11190846"
      ]
     },
     "execution_count": 35,
     "metadata": {},
     "output_type": "execute_result"
    }
   ],
   "source": [
    "df[::-1]"
   ]
  },
  {
   "cell_type": "markdown",
   "metadata": {},
   "source": [
    "### 2-2-7. Boolean Indexing"
   ]
  },
  {
   "cell_type": "code",
   "execution_count": 36,
   "metadata": {},
   "outputs": [
    {
     "data": {
      "text/html": [
       "<div>\n",
       "<style>\n",
       "    .dataframe thead tr:only-child th {\n",
       "        text-align: right;\n",
       "    }\n",
       "\n",
       "    .dataframe thead th {\n",
       "        text-align: left;\n",
       "    }\n",
       "\n",
       "    .dataframe tbody tr th {\n",
       "        vertical-align: top;\n",
       "    }\n",
       "</style>\n",
       "<table border=\"1\" class=\"dataframe\">\n",
       "  <thead>\n",
       "    <tr style=\"text-align: right;\">\n",
       "      <th></th>\n",
       "      <th>Country</th>\n",
       "      <th>Capital</th>\n",
       "      <th>Population</th>\n",
       "    </tr>\n",
       "  </thead>\n",
       "  <tbody>\n",
       "    <tr>\n",
       "      <th>0</th>\n",
       "      <td>Belgium</td>\n",
       "      <td>Brussels</td>\n",
       "      <td>11190846</td>\n",
       "    </tr>\n",
       "    <tr>\n",
       "      <th>1</th>\n",
       "      <td>India</td>\n",
       "      <td>New Delhi</td>\n",
       "      <td>1303171035</td>\n",
       "    </tr>\n",
       "    <tr>\n",
       "      <th>2</th>\n",
       "      <td>Brazil</td>\n",
       "      <td>Brasília</td>\n",
       "      <td>207847528</td>\n",
       "    </tr>\n",
       "  </tbody>\n",
       "</table>\n",
       "</div>"
      ],
      "text/plain": [
       "   Country    Capital  Population\n",
       "0  Belgium   Brussels    11190846\n",
       "1    India  New Delhi  1303171035\n",
       "2   Brazil   Brasília   207847528"
      ]
     },
     "execution_count": 36,
     "metadata": {},
     "output_type": "execute_result"
    }
   ],
   "source": [
    "df"
   ]
  },
  {
   "cell_type": "code",
   "execution_count": 37,
   "metadata": {},
   "outputs": [
    {
     "data": {
      "text/html": [
       "<div>\n",
       "<style>\n",
       "    .dataframe thead tr:only-child th {\n",
       "        text-align: right;\n",
       "    }\n",
       "\n",
       "    .dataframe thead th {\n",
       "        text-align: left;\n",
       "    }\n",
       "\n",
       "    .dataframe tbody tr th {\n",
       "        vertical-align: top;\n",
       "    }\n",
       "</style>\n",
       "<table border=\"1\" class=\"dataframe\">\n",
       "  <thead>\n",
       "    <tr style=\"text-align: right;\">\n",
       "      <th></th>\n",
       "      <th>Country</th>\n",
       "      <th>Capital</th>\n",
       "      <th>Population</th>\n",
       "    </tr>\n",
       "  </thead>\n",
       "  <tbody>\n",
       "    <tr>\n",
       "      <th>1</th>\n",
       "      <td>India</td>\n",
       "      <td>New Delhi</td>\n",
       "      <td>1303171035</td>\n",
       "    </tr>\n",
       "  </tbody>\n",
       "</table>\n",
       "</div>"
      ],
      "text/plain": [
       "  Country    Capital  Population\n",
       "1   India  New Delhi  1303171035"
      ]
     },
     "execution_count": 37,
     "metadata": {},
     "output_type": "execute_result"
    }
   ],
   "source": [
    "df[df['Population']>1200000000]"
   ]
  },
  {
   "cell_type": "markdown",
   "metadata": {},
   "source": [
    "## 2-2. Droping"
   ]
  },
  {
   "cell_type": "code",
   "execution_count": 38,
   "metadata": {},
   "outputs": [
    {
     "data": {
      "text/html": [
       "<div>\n",
       "<style>\n",
       "    .dataframe thead tr:only-child th {\n",
       "        text-align: right;\n",
       "    }\n",
       "\n",
       "    .dataframe thead th {\n",
       "        text-align: left;\n",
       "    }\n",
       "\n",
       "    .dataframe tbody tr th {\n",
       "        vertical-align: top;\n",
       "    }\n",
       "</style>\n",
       "<table border=\"1\" class=\"dataframe\">\n",
       "  <thead>\n",
       "    <tr style=\"text-align: right;\">\n",
       "      <th></th>\n",
       "      <th>Capital</th>\n",
       "      <th>Population</th>\n",
       "    </tr>\n",
       "  </thead>\n",
       "  <tbody>\n",
       "    <tr>\n",
       "      <th>0</th>\n",
       "      <td>Brussels</td>\n",
       "      <td>11190846</td>\n",
       "    </tr>\n",
       "    <tr>\n",
       "      <th>1</th>\n",
       "      <td>New Delhi</td>\n",
       "      <td>1303171035</td>\n",
       "    </tr>\n",
       "    <tr>\n",
       "      <th>2</th>\n",
       "      <td>Brasília</td>\n",
       "      <td>207847528</td>\n",
       "    </tr>\n",
       "  </tbody>\n",
       "</table>\n",
       "</div>"
      ],
      "text/plain": [
       "     Capital  Population\n",
       "0   Brussels    11190846\n",
       "1  New Delhi  1303171035\n",
       "2   Brasília   207847528"
      ]
     },
     "execution_count": 38,
     "metadata": {},
     "output_type": "execute_result"
    }
   ],
   "source": [
    "df.drop('Country',axis=1)   # Not inplace Function"
   ]
  },
  {
   "cell_type": "code",
   "execution_count": 39,
   "metadata": {},
   "outputs": [
    {
     "data": {
      "text/html": [
       "<div>\n",
       "<style>\n",
       "    .dataframe thead tr:only-child th {\n",
       "        text-align: right;\n",
       "    }\n",
       "\n",
       "    .dataframe thead th {\n",
       "        text-align: left;\n",
       "    }\n",
       "\n",
       "    .dataframe tbody tr th {\n",
       "        vertical-align: top;\n",
       "    }\n",
       "</style>\n",
       "<table border=\"1\" class=\"dataframe\">\n",
       "  <thead>\n",
       "    <tr style=\"text-align: right;\">\n",
       "      <th></th>\n",
       "      <th>Country</th>\n",
       "      <th>Capital</th>\n",
       "      <th>Population</th>\n",
       "    </tr>\n",
       "  </thead>\n",
       "  <tbody>\n",
       "    <tr>\n",
       "      <th>0</th>\n",
       "      <td>Belgium</td>\n",
       "      <td>Brussels</td>\n",
       "      <td>11190846</td>\n",
       "    </tr>\n",
       "    <tr>\n",
       "      <th>1</th>\n",
       "      <td>India</td>\n",
       "      <td>New Delhi</td>\n",
       "      <td>1303171035</td>\n",
       "    </tr>\n",
       "    <tr>\n",
       "      <th>2</th>\n",
       "      <td>Brazil</td>\n",
       "      <td>Brasília</td>\n",
       "      <td>207847528</td>\n",
       "    </tr>\n",
       "  </tbody>\n",
       "</table>\n",
       "</div>"
      ],
      "text/plain": [
       "   Country    Capital  Population\n",
       "0  Belgium   Brussels    11190846\n",
       "1    India  New Delhi  1303171035\n",
       "2   Brazil   Brasília   207847528"
      ]
     },
     "execution_count": 39,
     "metadata": {},
     "output_type": "execute_result"
    }
   ],
   "source": [
    "df"
   ]
  },
  {
   "cell_type": "markdown",
   "metadata": {},
   "source": [
    "## 2-3. Sorting and Ranking"
   ]
  },
  {
   "cell_type": "code",
   "execution_count": 40,
   "metadata": {},
   "outputs": [
    {
     "data": {
      "text/html": [
       "<div>\n",
       "<style>\n",
       "    .dataframe thead tr:only-child th {\n",
       "        text-align: right;\n",
       "    }\n",
       "\n",
       "    .dataframe thead th {\n",
       "        text-align: left;\n",
       "    }\n",
       "\n",
       "    .dataframe tbody tr th {\n",
       "        vertical-align: top;\n",
       "    }\n",
       "</style>\n",
       "<table border=\"1\" class=\"dataframe\">\n",
       "  <thead>\n",
       "    <tr style=\"text-align: right;\">\n",
       "      <th></th>\n",
       "      <th>feat0</th>\n",
       "      <th>feat1</th>\n",
       "      <th>feat2</th>\n",
       "      <th>feat3</th>\n",
       "      <th>feat4</th>\n",
       "      <th>feat5</th>\n",
       "      <th>feat6</th>\n",
       "      <th>feat7</th>\n",
       "      <th>feat8</th>\n",
       "      <th>feat9</th>\n",
       "    </tr>\n",
       "  </thead>\n",
       "  <tbody>\n",
       "    <tr>\n",
       "      <th>sam0</th>\n",
       "      <td>0.144098</td>\n",
       "      <td>0.511253</td>\n",
       "      <td>0.662973</td>\n",
       "      <td>-0.221964</td>\n",
       "      <td>0.109188</td>\n",
       "      <td>-0.474374</td>\n",
       "      <td>0.415145</td>\n",
       "      <td>1.227298</td>\n",
       "      <td>-0.129611</td>\n",
       "      <td>1.240550</td>\n",
       "    </tr>\n",
       "    <tr>\n",
       "      <th>sam1</th>\n",
       "      <td>0.479327</td>\n",
       "      <td>-0.334585</td>\n",
       "      <td>-1.048048</td>\n",
       "      <td>0.779508</td>\n",
       "      <td>-1.960056</td>\n",
       "      <td>-1.711061</td>\n",
       "      <td>-1.566406</td>\n",
       "      <td>0.321689</td>\n",
       "      <td>1.354121</td>\n",
       "      <td>-0.784822</td>\n",
       "    </tr>\n",
       "    <tr>\n",
       "      <th>sam2</th>\n",
       "      <td>1.439213</td>\n",
       "      <td>0.215784</td>\n",
       "      <td>-0.380879</td>\n",
       "      <td>-0.847516</td>\n",
       "      <td>1.592018</td>\n",
       "      <td>0.057773</td>\n",
       "      <td>1.483329</td>\n",
       "      <td>1.696284</td>\n",
       "      <td>0.933079</td>\n",
       "      <td>-0.033022</td>\n",
       "    </tr>\n",
       "    <tr>\n",
       "      <th>sam3</th>\n",
       "      <td>0.621442</td>\n",
       "      <td>-0.248484</td>\n",
       "      <td>-0.765125</td>\n",
       "      <td>1.043017</td>\n",
       "      <td>-1.600819</td>\n",
       "      <td>0.698592</td>\n",
       "      <td>0.770725</td>\n",
       "      <td>0.328838</td>\n",
       "      <td>-1.167603</td>\n",
       "      <td>0.467831</td>\n",
       "    </tr>\n",
       "  </tbody>\n",
       "</table>\n",
       "</div>"
      ],
      "text/plain": [
       "         feat0     feat1     feat2     feat3     feat4     feat5     feat6  \\\n",
       "sam0  0.144098  0.511253  0.662973 -0.221964  0.109188 -0.474374  0.415145   \n",
       "sam1  0.479327 -0.334585 -1.048048  0.779508 -1.960056 -1.711061 -1.566406   \n",
       "sam2  1.439213  0.215784 -0.380879 -0.847516  1.592018  0.057773  1.483329   \n",
       "sam3  0.621442 -0.248484 -0.765125  1.043017 -1.600819  0.698592  0.770725   \n",
       "\n",
       "         feat7     feat8     feat9  \n",
       "sam0  1.227298 -0.129611  1.240550  \n",
       "sam1  0.321689  1.354121 -0.784822  \n",
       "sam2  1.696284  0.933079 -0.033022  \n",
       "sam3  0.328838 -1.167603  0.467831  "
      ]
     },
     "execution_count": 40,
     "metadata": {},
     "output_type": "execute_result"
    }
   ],
   "source": [
    "df1"
   ]
  },
  {
   "cell_type": "code",
   "execution_count": 41,
   "metadata": {},
   "outputs": [
    {
     "data": {
      "text/html": [
       "<div>\n",
       "<style>\n",
       "    .dataframe thead tr:only-child th {\n",
       "        text-align: right;\n",
       "    }\n",
       "\n",
       "    .dataframe thead th {\n",
       "        text-align: left;\n",
       "    }\n",
       "\n",
       "    .dataframe tbody tr th {\n",
       "        vertical-align: top;\n",
       "    }\n",
       "</style>\n",
       "<table border=\"1\" class=\"dataframe\">\n",
       "  <thead>\n",
       "    <tr style=\"text-align: right;\">\n",
       "      <th></th>\n",
       "      <th>feat0</th>\n",
       "      <th>feat1</th>\n",
       "      <th>feat2</th>\n",
       "      <th>feat3</th>\n",
       "      <th>feat4</th>\n",
       "      <th>feat5</th>\n",
       "      <th>feat6</th>\n",
       "      <th>feat7</th>\n",
       "      <th>feat8</th>\n",
       "      <th>feat9</th>\n",
       "    </tr>\n",
       "  </thead>\n",
       "  <tbody>\n",
       "    <tr>\n",
       "      <th>sam0</th>\n",
       "      <td>0.144098</td>\n",
       "      <td>0.511253</td>\n",
       "      <td>0.662973</td>\n",
       "      <td>-0.221964</td>\n",
       "      <td>0.109188</td>\n",
       "      <td>-0.474374</td>\n",
       "      <td>0.415145</td>\n",
       "      <td>1.227298</td>\n",
       "      <td>-0.129611</td>\n",
       "      <td>1.240550</td>\n",
       "    </tr>\n",
       "    <tr>\n",
       "      <th>sam1</th>\n",
       "      <td>0.479327</td>\n",
       "      <td>-0.334585</td>\n",
       "      <td>-1.048048</td>\n",
       "      <td>0.779508</td>\n",
       "      <td>-1.960056</td>\n",
       "      <td>-1.711061</td>\n",
       "      <td>-1.566406</td>\n",
       "      <td>0.321689</td>\n",
       "      <td>1.354121</td>\n",
       "      <td>-0.784822</td>\n",
       "    </tr>\n",
       "    <tr>\n",
       "      <th>sam2</th>\n",
       "      <td>1.439213</td>\n",
       "      <td>0.215784</td>\n",
       "      <td>-0.380879</td>\n",
       "      <td>-0.847516</td>\n",
       "      <td>1.592018</td>\n",
       "      <td>0.057773</td>\n",
       "      <td>1.483329</td>\n",
       "      <td>1.696284</td>\n",
       "      <td>0.933079</td>\n",
       "      <td>-0.033022</td>\n",
       "    </tr>\n",
       "    <tr>\n",
       "      <th>sam3</th>\n",
       "      <td>0.621442</td>\n",
       "      <td>-0.248484</td>\n",
       "      <td>-0.765125</td>\n",
       "      <td>1.043017</td>\n",
       "      <td>-1.600819</td>\n",
       "      <td>0.698592</td>\n",
       "      <td>0.770725</td>\n",
       "      <td>0.328838</td>\n",
       "      <td>-1.167603</td>\n",
       "      <td>0.467831</td>\n",
       "    </tr>\n",
       "  </tbody>\n",
       "</table>\n",
       "</div>"
      ],
      "text/plain": [
       "         feat0     feat1     feat2     feat3     feat4     feat5     feat6  \\\n",
       "sam0  0.144098  0.511253  0.662973 -0.221964  0.109188 -0.474374  0.415145   \n",
       "sam1  0.479327 -0.334585 -1.048048  0.779508 -1.960056 -1.711061 -1.566406   \n",
       "sam2  1.439213  0.215784 -0.380879 -0.847516  1.592018  0.057773  1.483329   \n",
       "sam3  0.621442 -0.248484 -0.765125  1.043017 -1.600819  0.698592  0.770725   \n",
       "\n",
       "         feat7     feat8     feat9  \n",
       "sam0  1.227298 -0.129611  1.240550  \n",
       "sam1  0.321689  1.354121 -0.784822  \n",
       "sam2  1.696284  0.933079 -0.033022  \n",
       "sam3  0.328838 -1.167603  0.467831  "
      ]
     },
     "execution_count": 41,
     "metadata": {},
     "output_type": "execute_result"
    }
   ],
   "source": [
    "df1.sort_index()"
   ]
  },
  {
   "cell_type": "code",
   "execution_count": 42,
   "metadata": {},
   "outputs": [
    {
     "data": {
      "text/html": [
       "<div>\n",
       "<style>\n",
       "    .dataframe thead tr:only-child th {\n",
       "        text-align: right;\n",
       "    }\n",
       "\n",
       "    .dataframe thead th {\n",
       "        text-align: left;\n",
       "    }\n",
       "\n",
       "    .dataframe tbody tr th {\n",
       "        vertical-align: top;\n",
       "    }\n",
       "</style>\n",
       "<table border=\"1\" class=\"dataframe\">\n",
       "  <thead>\n",
       "    <tr style=\"text-align: right;\">\n",
       "      <th></th>\n",
       "      <th>feat0</th>\n",
       "      <th>feat1</th>\n",
       "      <th>feat2</th>\n",
       "      <th>feat3</th>\n",
       "      <th>feat4</th>\n",
       "      <th>feat5</th>\n",
       "      <th>feat6</th>\n",
       "      <th>feat7</th>\n",
       "      <th>feat8</th>\n",
       "      <th>feat9</th>\n",
       "    </tr>\n",
       "  </thead>\n",
       "  <tbody>\n",
       "    <tr>\n",
       "      <th>sam1</th>\n",
       "      <td>0.479327</td>\n",
       "      <td>-0.334585</td>\n",
       "      <td>-1.048048</td>\n",
       "      <td>0.779508</td>\n",
       "      <td>-1.960056</td>\n",
       "      <td>-1.711061</td>\n",
       "      <td>-1.566406</td>\n",
       "      <td>0.321689</td>\n",
       "      <td>1.354121</td>\n",
       "      <td>-0.784822</td>\n",
       "    </tr>\n",
       "    <tr>\n",
       "      <th>sam3</th>\n",
       "      <td>0.621442</td>\n",
       "      <td>-0.248484</td>\n",
       "      <td>-0.765125</td>\n",
       "      <td>1.043017</td>\n",
       "      <td>-1.600819</td>\n",
       "      <td>0.698592</td>\n",
       "      <td>0.770725</td>\n",
       "      <td>0.328838</td>\n",
       "      <td>-1.167603</td>\n",
       "      <td>0.467831</td>\n",
       "    </tr>\n",
       "    <tr>\n",
       "      <th>sam2</th>\n",
       "      <td>1.439213</td>\n",
       "      <td>0.215784</td>\n",
       "      <td>-0.380879</td>\n",
       "      <td>-0.847516</td>\n",
       "      <td>1.592018</td>\n",
       "      <td>0.057773</td>\n",
       "      <td>1.483329</td>\n",
       "      <td>1.696284</td>\n",
       "      <td>0.933079</td>\n",
       "      <td>-0.033022</td>\n",
       "    </tr>\n",
       "    <tr>\n",
       "      <th>sam0</th>\n",
       "      <td>0.144098</td>\n",
       "      <td>0.511253</td>\n",
       "      <td>0.662973</td>\n",
       "      <td>-0.221964</td>\n",
       "      <td>0.109188</td>\n",
       "      <td>-0.474374</td>\n",
       "      <td>0.415145</td>\n",
       "      <td>1.227298</td>\n",
       "      <td>-0.129611</td>\n",
       "      <td>1.240550</td>\n",
       "    </tr>\n",
       "  </tbody>\n",
       "</table>\n",
       "</div>"
      ],
      "text/plain": [
       "         feat0     feat1     feat2     feat3     feat4     feat5     feat6  \\\n",
       "sam1  0.479327 -0.334585 -1.048048  0.779508 -1.960056 -1.711061 -1.566406   \n",
       "sam3  0.621442 -0.248484 -0.765125  1.043017 -1.600819  0.698592  0.770725   \n",
       "sam2  1.439213  0.215784 -0.380879 -0.847516  1.592018  0.057773  1.483329   \n",
       "sam0  0.144098  0.511253  0.662973 -0.221964  0.109188 -0.474374  0.415145   \n",
       "\n",
       "         feat7     feat8     feat9  \n",
       "sam1  0.321689  1.354121 -0.784822  \n",
       "sam3  0.328838 -1.167603  0.467831  \n",
       "sam2  1.696284  0.933079 -0.033022  \n",
       "sam0  1.227298 -0.129611  1.240550  "
      ]
     },
     "execution_count": 42,
     "metadata": {},
     "output_type": "execute_result"
    }
   ],
   "source": [
    "df1.sort_values('feat1')"
   ]
  },
  {
   "cell_type": "code",
   "execution_count": 43,
   "metadata": {},
   "outputs": [
    {
     "data": {
      "text/html": [
       "<div>\n",
       "<style>\n",
       "    .dataframe thead tr:only-child th {\n",
       "        text-align: right;\n",
       "    }\n",
       "\n",
       "    .dataframe thead th {\n",
       "        text-align: left;\n",
       "    }\n",
       "\n",
       "    .dataframe tbody tr th {\n",
       "        vertical-align: top;\n",
       "    }\n",
       "</style>\n",
       "<table border=\"1\" class=\"dataframe\">\n",
       "  <thead>\n",
       "    <tr style=\"text-align: right;\">\n",
       "      <th></th>\n",
       "      <th>feat0</th>\n",
       "      <th>feat1</th>\n",
       "      <th>feat2</th>\n",
       "      <th>feat3</th>\n",
       "      <th>feat4</th>\n",
       "      <th>feat5</th>\n",
       "      <th>feat6</th>\n",
       "      <th>feat7</th>\n",
       "      <th>feat8</th>\n",
       "      <th>feat9</th>\n",
       "    </tr>\n",
       "  </thead>\n",
       "  <tbody>\n",
       "    <tr>\n",
       "      <th>sam0</th>\n",
       "      <td>0.144098</td>\n",
       "      <td>0.511253</td>\n",
       "      <td>0.662973</td>\n",
       "      <td>-0.221964</td>\n",
       "      <td>0.109188</td>\n",
       "      <td>-0.474374</td>\n",
       "      <td>0.415145</td>\n",
       "      <td>1.227298</td>\n",
       "      <td>-0.129611</td>\n",
       "      <td>1.240550</td>\n",
       "    </tr>\n",
       "    <tr>\n",
       "      <th>sam1</th>\n",
       "      <td>0.479327</td>\n",
       "      <td>-0.334585</td>\n",
       "      <td>-1.048048</td>\n",
       "      <td>0.779508</td>\n",
       "      <td>-1.960056</td>\n",
       "      <td>-1.711061</td>\n",
       "      <td>-1.566406</td>\n",
       "      <td>0.321689</td>\n",
       "      <td>1.354121</td>\n",
       "      <td>-0.784822</td>\n",
       "    </tr>\n",
       "    <tr>\n",
       "      <th>sam2</th>\n",
       "      <td>1.439213</td>\n",
       "      <td>0.215784</td>\n",
       "      <td>-0.380879</td>\n",
       "      <td>-0.847516</td>\n",
       "      <td>1.592018</td>\n",
       "      <td>0.057773</td>\n",
       "      <td>1.483329</td>\n",
       "      <td>1.696284</td>\n",
       "      <td>0.933079</td>\n",
       "      <td>-0.033022</td>\n",
       "    </tr>\n",
       "    <tr>\n",
       "      <th>sam3</th>\n",
       "      <td>0.621442</td>\n",
       "      <td>-0.248484</td>\n",
       "      <td>-0.765125</td>\n",
       "      <td>1.043017</td>\n",
       "      <td>-1.600819</td>\n",
       "      <td>0.698592</td>\n",
       "      <td>0.770725</td>\n",
       "      <td>0.328838</td>\n",
       "      <td>-1.167603</td>\n",
       "      <td>0.467831</td>\n",
       "    </tr>\n",
       "  </tbody>\n",
       "</table>\n",
       "</div>"
      ],
      "text/plain": [
       "         feat0     feat1     feat2     feat3     feat4     feat5     feat6  \\\n",
       "sam0  0.144098  0.511253  0.662973 -0.221964  0.109188 -0.474374  0.415145   \n",
       "sam1  0.479327 -0.334585 -1.048048  0.779508 -1.960056 -1.711061 -1.566406   \n",
       "sam2  1.439213  0.215784 -0.380879 -0.847516  1.592018  0.057773  1.483329   \n",
       "sam3  0.621442 -0.248484 -0.765125  1.043017 -1.600819  0.698592  0.770725   \n",
       "\n",
       "         feat7     feat8     feat9  \n",
       "sam0  1.227298 -0.129611  1.240550  \n",
       "sam1  0.321689  1.354121 -0.784822  \n",
       "sam2  1.696284  0.933079 -0.033022  \n",
       "sam3  0.328838 -1.167603  0.467831  "
      ]
     },
     "execution_count": 43,
     "metadata": {},
     "output_type": "execute_result"
    }
   ],
   "source": [
    "df1"
   ]
  },
  {
   "cell_type": "markdown",
   "metadata": {},
   "source": [
    "## 2-4. Retrieving Series/DataFrame Information"
   ]
  },
  {
   "cell_type": "markdown",
   "metadata": {},
   "source": [
    "### 2-4-1. Basic Information"
   ]
  },
  {
   "cell_type": "code",
   "execution_count": 44,
   "metadata": {},
   "outputs": [
    {
     "data": {
      "text/plain": [
       "(4, 10)"
      ]
     },
     "execution_count": 44,
     "metadata": {},
     "output_type": "execute_result"
    }
   ],
   "source": [
    "df1.shape"
   ]
  },
  {
   "cell_type": "code",
   "execution_count": 45,
   "metadata": {},
   "outputs": [
    {
     "data": {
      "text/plain": [
       "Index(['sam0', 'sam1', 'sam2', 'sam3'], dtype='object')"
      ]
     },
     "execution_count": 45,
     "metadata": {},
     "output_type": "execute_result"
    }
   ],
   "source": [
    "df1.index"
   ]
  },
  {
   "cell_type": "code",
   "execution_count": 46,
   "metadata": {},
   "outputs": [
    {
     "data": {
      "text/plain": [
       "Index(['feat0', 'feat1', 'feat2', 'feat3', 'feat4', 'feat5', 'feat6', 'feat7',\n",
       "       'feat8', 'feat9'],\n",
       "      dtype='object')"
      ]
     },
     "execution_count": 46,
     "metadata": {},
     "output_type": "execute_result"
    }
   ],
   "source": [
    "df1.columns"
   ]
  },
  {
   "cell_type": "code",
   "execution_count": 47,
   "metadata": {},
   "outputs": [
    {
     "name": "stdout",
     "output_type": "stream",
     "text": [
      "<class 'pandas.core.frame.DataFrame'>\n",
      "Index: 4 entries, sam0 to sam3\n",
      "Data columns (total 10 columns):\n",
      "feat0    4 non-null float64\n",
      "feat1    4 non-null float64\n",
      "feat2    4 non-null float64\n",
      "feat3    4 non-null float64\n",
      "feat4    4 non-null float64\n",
      "feat5    4 non-null float64\n",
      "feat6    4 non-null float64\n",
      "feat7    4 non-null float64\n",
      "feat8    4 non-null float64\n",
      "feat9    4 non-null float64\n",
      "dtypes: float64(10)\n",
      "memory usage: 512.0+ bytes\n"
     ]
    }
   ],
   "source": [
    "df1.info()"
   ]
  },
  {
   "cell_type": "code",
   "execution_count": 48,
   "metadata": {},
   "outputs": [
    {
     "data": {
      "text/plain": [
       "feat0    4\n",
       "feat1    4\n",
       "feat2    4\n",
       "feat3    4\n",
       "feat4    4\n",
       "feat5    4\n",
       "feat6    4\n",
       "feat7    4\n",
       "feat8    4\n",
       "feat9    4\n",
       "dtype: int64"
      ]
     },
     "execution_count": 48,
     "metadata": {},
     "output_type": "execute_result"
    }
   ],
   "source": [
    "df1.count()"
   ]
  },
  {
   "cell_type": "markdown",
   "metadata": {},
   "source": [
    "### 2-4-2. Summary"
   ]
  },
  {
   "cell_type": "code",
   "execution_count": 49,
   "metadata": {},
   "outputs": [
    {
     "data": {
      "text/plain": [
       "feat0    2.684080\n",
       "feat1    0.143968\n",
       "feat2   -1.531078\n",
       "feat3    0.753045\n",
       "feat4   -1.859669\n",
       "feat5   -1.429070\n",
       "feat6    1.102793\n",
       "feat7    3.574108\n",
       "feat8    0.989987\n",
       "feat9    0.890536\n",
       "dtype: float64"
      ]
     },
     "execution_count": 49,
     "metadata": {},
     "output_type": "execute_result"
    }
   ],
   "source": [
    "df1.sum()"
   ]
  },
  {
   "cell_type": "code",
   "execution_count": 50,
   "metadata": {},
   "outputs": [
    {
     "data": {
      "text/html": [
       "<div>\n",
       "<style>\n",
       "    .dataframe thead tr:only-child th {\n",
       "        text-align: right;\n",
       "    }\n",
       "\n",
       "    .dataframe thead th {\n",
       "        text-align: left;\n",
       "    }\n",
       "\n",
       "    .dataframe tbody tr th {\n",
       "        vertical-align: top;\n",
       "    }\n",
       "</style>\n",
       "<table border=\"1\" class=\"dataframe\">\n",
       "  <thead>\n",
       "    <tr style=\"text-align: right;\">\n",
       "      <th></th>\n",
       "      <th>feat0</th>\n",
       "      <th>feat1</th>\n",
       "      <th>feat2</th>\n",
       "      <th>feat3</th>\n",
       "      <th>feat4</th>\n",
       "      <th>feat5</th>\n",
       "      <th>feat6</th>\n",
       "      <th>feat7</th>\n",
       "      <th>feat8</th>\n",
       "      <th>feat9</th>\n",
       "    </tr>\n",
       "  </thead>\n",
       "  <tbody>\n",
       "    <tr>\n",
       "      <th>sam0</th>\n",
       "      <td>0.144098</td>\n",
       "      <td>0.511253</td>\n",
       "      <td>0.662973</td>\n",
       "      <td>-0.221964</td>\n",
       "      <td>0.109188</td>\n",
       "      <td>-0.474374</td>\n",
       "      <td>0.415145</td>\n",
       "      <td>1.227298</td>\n",
       "      <td>-0.129611</td>\n",
       "      <td>1.240550</td>\n",
       "    </tr>\n",
       "    <tr>\n",
       "      <th>sam1</th>\n",
       "      <td>0.623425</td>\n",
       "      <td>0.176668</td>\n",
       "      <td>-0.385075</td>\n",
       "      <td>0.557544</td>\n",
       "      <td>-1.850868</td>\n",
       "      <td>-2.185435</td>\n",
       "      <td>-1.151261</td>\n",
       "      <td>1.548986</td>\n",
       "      <td>1.224511</td>\n",
       "      <td>0.455727</td>\n",
       "    </tr>\n",
       "    <tr>\n",
       "      <th>sam2</th>\n",
       "      <td>2.062638</td>\n",
       "      <td>0.392452</td>\n",
       "      <td>-0.765953</td>\n",
       "      <td>-0.289972</td>\n",
       "      <td>-0.258851</td>\n",
       "      <td>-2.127662</td>\n",
       "      <td>0.332068</td>\n",
       "      <td>3.245270</td>\n",
       "      <td>2.157590</td>\n",
       "      <td>0.422705</td>\n",
       "    </tr>\n",
       "    <tr>\n",
       "      <th>sam3</th>\n",
       "      <td>2.684080</td>\n",
       "      <td>0.143968</td>\n",
       "      <td>-1.531078</td>\n",
       "      <td>0.753045</td>\n",
       "      <td>-1.859669</td>\n",
       "      <td>-1.429070</td>\n",
       "      <td>1.102793</td>\n",
       "      <td>3.574108</td>\n",
       "      <td>0.989987</td>\n",
       "      <td>0.890536</td>\n",
       "    </tr>\n",
       "  </tbody>\n",
       "</table>\n",
       "</div>"
      ],
      "text/plain": [
       "         feat0     feat1     feat2     feat3     feat4     feat5     feat6  \\\n",
       "sam0  0.144098  0.511253  0.662973 -0.221964  0.109188 -0.474374  0.415145   \n",
       "sam1  0.623425  0.176668 -0.385075  0.557544 -1.850868 -2.185435 -1.151261   \n",
       "sam2  2.062638  0.392452 -0.765953 -0.289972 -0.258851 -2.127662  0.332068   \n",
       "sam3  2.684080  0.143968 -1.531078  0.753045 -1.859669 -1.429070  1.102793   \n",
       "\n",
       "         feat7     feat8     feat9  \n",
       "sam0  1.227298 -0.129611  1.240550  \n",
       "sam1  1.548986  1.224511  0.455727  \n",
       "sam2  3.245270  2.157590  0.422705  \n",
       "sam3  3.574108  0.989987  0.890536  "
      ]
     },
     "execution_count": 50,
     "metadata": {},
     "output_type": "execute_result"
    }
   ],
   "source": [
    "df1.cumsum()"
   ]
  },
  {
   "cell_type": "code",
   "execution_count": 51,
   "metadata": {},
   "outputs": [
    {
     "data": {
      "text/plain": [
       "feat1    0.143968\n",
       "dtype: float64"
      ]
     },
     "execution_count": 51,
     "metadata": {},
     "output_type": "execute_result"
    }
   ],
   "source": [
    "df1[[\"feat1\"]].sum()"
   ]
  },
  {
   "cell_type": "code",
   "execution_count": 52,
   "metadata": {},
   "outputs": [
    {
     "data": {
      "text/html": [
       "<div>\n",
       "<style>\n",
       "    .dataframe thead tr:only-child th {\n",
       "        text-align: right;\n",
       "    }\n",
       "\n",
       "    .dataframe thead th {\n",
       "        text-align: left;\n",
       "    }\n",
       "\n",
       "    .dataframe tbody tr th {\n",
       "        vertical-align: top;\n",
       "    }\n",
       "</style>\n",
       "<table border=\"1\" class=\"dataframe\">\n",
       "  <thead>\n",
       "    <tr style=\"text-align: right;\">\n",
       "      <th></th>\n",
       "      <th>feat1</th>\n",
       "    </tr>\n",
       "  </thead>\n",
       "  <tbody>\n",
       "    <tr>\n",
       "      <th>sam0</th>\n",
       "      <td>0.511253</td>\n",
       "    </tr>\n",
       "    <tr>\n",
       "      <th>sam1</th>\n",
       "      <td>0.176668</td>\n",
       "    </tr>\n",
       "    <tr>\n",
       "      <th>sam2</th>\n",
       "      <td>0.392452</td>\n",
       "    </tr>\n",
       "    <tr>\n",
       "      <th>sam3</th>\n",
       "      <td>0.143968</td>\n",
       "    </tr>\n",
       "  </tbody>\n",
       "</table>\n",
       "</div>"
      ],
      "text/plain": [
       "         feat1\n",
       "sam0  0.511253\n",
       "sam1  0.176668\n",
       "sam2  0.392452\n",
       "sam3  0.143968"
      ]
     },
     "execution_count": 52,
     "metadata": {},
     "output_type": "execute_result"
    }
   ],
   "source": [
    "df1[[\"feat1\"]].cumsum()"
   ]
  },
  {
   "cell_type": "code",
   "execution_count": 53,
   "metadata": {},
   "outputs": [
    {
     "data": {
      "text/plain": [
       "feat1   -1.528021\n",
       "dtype: float64"
      ]
     },
     "execution_count": 53,
     "metadata": {},
     "output_type": "execute_result"
    }
   ],
   "source": [
    "df1[[\"feat1\"]].max() / df1[[\"feat1\"]].min()"
   ]
  },
  {
   "cell_type": "code",
   "execution_count": 54,
   "metadata": {},
   "outputs": [
    {
     "data": {
      "text/plain": [
       "feat1    sam1\n",
       "dtype: object"
      ]
     },
     "execution_count": 54,
     "metadata": {},
     "output_type": "execute_result"
    }
   ],
   "source": [
    "df1[[\"feat1\"]].idxmin()"
   ]
  },
  {
   "cell_type": "code",
   "execution_count": 55,
   "metadata": {},
   "outputs": [
    {
     "data": {
      "text/plain": [
       "feat1    sam0\n",
       "dtype: object"
      ]
     },
     "execution_count": 55,
     "metadata": {},
     "output_type": "execute_result"
    }
   ],
   "source": [
    "df1[[\"feat1\"]].idxmax()"
   ]
  },
  {
   "cell_type": "code",
   "execution_count": 56,
   "metadata": {},
   "outputs": [
    {
     "data": {
      "text/html": [
       "<div>\n",
       "<style>\n",
       "    .dataframe thead tr:only-child th {\n",
       "        text-align: right;\n",
       "    }\n",
       "\n",
       "    .dataframe thead th {\n",
       "        text-align: left;\n",
       "    }\n",
       "\n",
       "    .dataframe tbody tr th {\n",
       "        vertical-align: top;\n",
       "    }\n",
       "</style>\n",
       "<table border=\"1\" class=\"dataframe\">\n",
       "  <thead>\n",
       "    <tr style=\"text-align: right;\">\n",
       "      <th></th>\n",
       "      <th>feat1</th>\n",
       "    </tr>\n",
       "  </thead>\n",
       "  <tbody>\n",
       "    <tr>\n",
       "      <th>count</th>\n",
       "      <td>4.000000</td>\n",
       "    </tr>\n",
       "    <tr>\n",
       "      <th>mean</th>\n",
       "      <td>0.035992</td>\n",
       "    </tr>\n",
       "    <tr>\n",
       "      <th>std</th>\n",
       "      <td>0.398519</td>\n",
       "    </tr>\n",
       "    <tr>\n",
       "      <th>min</th>\n",
       "      <td>-0.334585</td>\n",
       "    </tr>\n",
       "    <tr>\n",
       "      <th>25%</th>\n",
       "      <td>-0.270009</td>\n",
       "    </tr>\n",
       "    <tr>\n",
       "      <th>50%</th>\n",
       "      <td>-0.016350</td>\n",
       "    </tr>\n",
       "    <tr>\n",
       "      <th>75%</th>\n",
       "      <td>0.289651</td>\n",
       "    </tr>\n",
       "    <tr>\n",
       "      <th>max</th>\n",
       "      <td>0.511253</td>\n",
       "    </tr>\n",
       "  </tbody>\n",
       "</table>\n",
       "</div>"
      ],
      "text/plain": [
       "          feat1\n",
       "count  4.000000\n",
       "mean   0.035992\n",
       "std    0.398519\n",
       "min   -0.334585\n",
       "25%   -0.270009\n",
       "50%   -0.016350\n",
       "75%    0.289651\n",
       "max    0.511253"
      ]
     },
     "execution_count": 56,
     "metadata": {},
     "output_type": "execute_result"
    }
   ],
   "source": [
    "df1[[\"feat1\"]].describe()"
   ]
  },
  {
   "cell_type": "code",
   "execution_count": 57,
   "metadata": {},
   "outputs": [
    {
     "data": {
      "text/plain": [
       "feat1    0.035992\n",
       "dtype: float64"
      ]
     },
     "execution_count": 57,
     "metadata": {},
     "output_type": "execute_result"
    }
   ],
   "source": [
    "df1[[\"feat1\"]].mean()"
   ]
  },
  {
   "cell_type": "code",
   "execution_count": 58,
   "metadata": {},
   "outputs": [
    {
     "data": {
      "text/plain": [
       "feat1   -0.01635\n",
       "dtype: float64"
      ]
     },
     "execution_count": 58,
     "metadata": {},
     "output_type": "execute_result"
    }
   ],
   "source": [
    "df1[['feat1']].median()"
   ]
  },
  {
   "cell_type": "markdown",
   "metadata": {},
   "source": [
    "### Asking For Help\n",
    "It is possible to find the **docstring** of a function using help()"
   ]
  },
  {
   "cell_type": "code",
   "execution_count": 59,
   "metadata": {},
   "outputs": [
    {
     "name": "stdout",
     "output_type": "stream",
     "text": [
      "Help on property:\n",
      "\n",
      "    Purely label-location based indexer for selection by label.\n",
      "    \n",
      "    ``.loc[]`` is primarily label based, but may also be used with a\n",
      "    boolean array.\n",
      "    \n",
      "    Allowed inputs are:\n",
      "    \n",
      "    - A single label, e.g. ``5`` or ``'a'``, (note that ``5`` is\n",
      "      interpreted as a *label* of the index, and **never** as an\n",
      "      integer position along the index).\n",
      "    - A list or array of labels, e.g. ``['a', 'b', 'c']``.\n",
      "    - A slice object with labels, e.g. ``'a':'f'`` (note that contrary\n",
      "      to usual python slices, **both** the start and the stop are included!).\n",
      "    - A boolean array.\n",
      "    - A ``callable`` function with one argument (the calling Series, DataFrame\n",
      "      or Panel) and that returns valid output for indexing (one of the above)\n",
      "    \n",
      "    ``.loc`` will raise a ``KeyError`` when the items are not found.\n",
      "    \n",
      "    See more at :ref:`Selection by Label <indexing.label>`\n",
      "\n"
     ]
    }
   ],
   "source": [
    "help(pd.Series.loc)"
   ]
  }
 ],
 "metadata": {
  "anaconda-cloud": {},
  "kernelspec": {
   "display_name": "Python 3",
   "language": "python",
   "name": "python3"
  },
  "language_info": {
   "codemirror_mode": {
    "name": "ipython",
    "version": 3
   },
   "file_extension": ".py",
   "mimetype": "text/x-python",
   "name": "python",
   "nbconvert_exporter": "python",
   "pygments_lexer": "ipython3",
   "version": "3.6.2"
  }
 },
 "nbformat": 4,
 "nbformat_minor": 1
}
